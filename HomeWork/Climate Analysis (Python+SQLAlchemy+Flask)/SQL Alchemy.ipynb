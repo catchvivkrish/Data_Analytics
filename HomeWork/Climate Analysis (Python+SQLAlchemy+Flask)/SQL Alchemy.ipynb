{
 "cells": [
  {
   "cell_type": "code",
   "execution_count": 1,
   "metadata": {},
   "outputs": [],
   "source": [
    "%matplotlib inline\n",
    "from matplotlib import style\n",
    "style.use('fivethirtyeight')\n",
    "import matplotlib.pyplot as plt\n",
    "import numpy as np\n",
    "import pandas as pd\n",
    "from datetime import datetime, timedelta"
   ]
  },
  {
   "cell_type": "code",
   "execution_count": 2,
   "metadata": {},
   "outputs": [],
   "source": [
    "# Python SQL toolkit and Object Relational Mapper\n",
    "import sqlalchemy\n",
    "from sqlalchemy.ext.automap import automap_base\n",
    "from sqlalchemy.orm import Session\n",
    "from sqlalchemy import create_engine, func"
   ]
  },
  {
   "cell_type": "code",
   "execution_count": 3,
   "metadata": {},
   "outputs": [],
   "source": [
    "engine = create_engine(\"sqlite:///Resources/hawaii.sqlite\")"
   ]
  },
  {
   "cell_type": "code",
   "execution_count": 24,
   "metadata": {},
   "outputs": [],
   "source": [
    "# reflect an existing database into a new model\n",
    "Base = automap_base()\n",
    "# reflect the tables\n",
    "Base.prepare(engine, reflect=True)"
   ]
  },
  {
   "cell_type": "code",
   "execution_count": 25,
   "metadata": {},
   "outputs": [
    {
     "data": {
      "text/plain": [
       "['measurement', 'station']"
      ]
     },
     "execution_count": 25,
     "metadata": {},
     "output_type": "execute_result"
    }
   ],
   "source": [
    "# We can view all of the classes that automap found\n",
    "Base.classes.keys()"
   ]
  },
  {
   "cell_type": "code",
   "execution_count": 6,
   "metadata": {},
   "outputs": [],
   "source": [
    "# Save references to each table\n",
    "Measurement = Base.classes.measurement\n",
    "Station = Base.classes.station"
   ]
  },
  {
   "cell_type": "code",
   "execution_count": 7,
   "metadata": {},
   "outputs": [],
   "source": [
    "# Create our session (link) from Python to the DB\n",
    "session = Session(engine)\n",
    "conn = engine.connect()"
   ]
  },
  {
   "cell_type": "code",
   "execution_count": 30,
   "metadata": {},
   "outputs": [],
   "source": [
    "date_list = []\n",
    "prcp_list = []\n",
    "temp_list = []\n",
    "for instance in session.query(Measurement):\n",
    "#    print(instance.date,instance.prcp,instance.tobs)\n",
    "    date_list.append(instance.date)\n",
    "    prcp_list.append(instance.prcp)\n",
    "    temp_list.append(instance.tobs)"
   ]
  },
  {
   "cell_type": "code",
   "execution_count": 77,
   "metadata": {},
   "outputs": [],
   "source": [
    "# Design a query to retrieve the last 12 months of precipitation data and plot the results\n",
    "\n",
    "# Calculate the date 1 year ago from today\n",
    "max_date = pd.read_sql(\"select date from measurement\",conn)\n",
    "max_date = max_date.values.tolist()\n",
    "max_date = max(max_date)\n",
    "max_date = ''.join(max_date)\n",
    "# print(max_date)\n",
    "year,month,day = max_date.split('-')\n",
    "year_from_max = datetime(int(year),int(month),int(day)) - timedelta(days=365)\n",
    "# print(year_from_max)\n",
    "\n",
    "# Perform a query to retrieve the data and precipitation scores\n",
    "year_data = pd.read_sql(f\"select * from measurement where date >= '{year_from_max}'\",conn)\n",
    "\n",
    "# # Save the query results as a Pandas DataFrame and set the index to the date column\n",
    "year_data = year_data[[\"date\",\"prcp\"]]\n",
    "year_data = year_data.set_index(\"date\")\n",
    "\n",
    "# Sort the dataframe by date\n",
    "year_data = year_data.sort_values(\"date\")\n",
    "#year_data.head(10)"
   ]
  },
  {
   "cell_type": "code",
   "execution_count": 35,
   "metadata": {},
   "outputs": [
    {
     "name": "stderr",
     "output_type": "stream",
     "text": [
      "C:\\Users\\catch\\Anaconda3\\lib\\site-packages\\matplotlib\\cbook\\deprecation.py:107: MatplotlibDeprecationWarning: Adding an axes using the same arguments as a previous axes currently reuses the earlier instance.  In a future version, a new instance will always be created and returned.  Meanwhile, this warning can be suppressed, and the future behavior ensured, by passing a unique label to each axes instance.\n",
      "  warnings.warn(message, mplDeprecation, stacklevel=1)\n"
     ]
    },
    {
     "data": {
      "image/png": "[encoded data removed]",
      "text/plain": [
       "<Figure size 1080x720 with 1 Axes>"
      ]
     },
     "metadata": {
      "needs_background": "light"
     },
     "output_type": "display_data"
    }
   ],
   "source": [
    "# Use Pandas Plotting with Matplotlib to plot the data\n",
    "year_data.plot(kind=\"bar\", figsize=(15,10), width = 4)\n",
    "\n",
    "# Rotate the xticks for the dates\n",
    "plt.xticks(rotation=90)\n",
    "x_axis = plt.axes().axes.get_xaxis()\n",
    "x_axis.set_visible(False)\n",
    "plt.xlabel(\"date\")\n",
    "plt.savefig(\"precipitationgraph.png\")\n",
    "plt.show()"
   ]
  },
  {
   "cell_type": "code",
   "execution_count": 15,
   "metadata": {},
   "outputs": [
    {
     "data": {
      "text/html": [
       "<div>\n",
       "<style scoped>\n",
       "    .dataframe tbody tr th:only-of-type {\n",
       "        vertical-align: middle;\n",
       "    }\n",
       "\n",
       "    .dataframe tbody tr th {\n",
       "        vertical-align: top;\n",
       "    }\n",
       "\n",
       "    .dataframe thead th {\n",
       "        text-align: right;\n",
       "    }\n",
       "</style>\n",
       "<table border=\"1\" class=\"dataframe\">\n",
       "  <thead>\n",
       "    <tr style=\"text-align: right;\">\n",
       "      <th></th>\n",
       "      <th>prcp</th>\n",
       "    </tr>\n",
       "  </thead>\n",
       "  <tbody>\n",
       "    <tr>\n",
       "      <th>count</th>\n",
       "      <td>2015.000000</td>\n",
       "    </tr>\n",
       "    <tr>\n",
       "      <th>mean</th>\n",
       "      <td>0.176462</td>\n",
       "    </tr>\n",
       "    <tr>\n",
       "      <th>std</th>\n",
       "      <td>0.460288</td>\n",
       "    </tr>\n",
       "    <tr>\n",
       "      <th>min</th>\n",
       "      <td>0.000000</td>\n",
       "    </tr>\n",
       "    <tr>\n",
       "      <th>25%</th>\n",
       "      <td>0.000000</td>\n",
       "    </tr>\n",
       "    <tr>\n",
       "      <th>50%</th>\n",
       "      <td>0.020000</td>\n",
       "    </tr>\n",
       "    <tr>\n",
       "      <th>75%</th>\n",
       "      <td>0.130000</td>\n",
       "    </tr>\n",
       "    <tr>\n",
       "      <th>max</th>\n",
       "      <td>6.700000</td>\n",
       "    </tr>\n",
       "  </tbody>\n",
       "</table>\n",
       "</div>"
      ],
      "text/plain": [
       "              prcp\n",
       "count  2015.000000\n",
       "mean      0.176462\n",
       "std       0.460288\n",
       "min       0.000000\n",
       "25%       0.000000\n",
       "50%       0.020000\n",
       "75%       0.130000\n",
       "max       6.700000"
      ]
     },
     "execution_count": 15,
     "metadata": {},
     "output_type": "execute_result"
    }
   ],
   "source": [
    "# Use Pandas to calcualte the summary statistics for the precipitation data\n",
    "year_data.describe()"
   ]
  },
  {
   "cell_type": "code",
   "execution_count": 38,
   "metadata": {},
   "outputs": [
    {
     "data": {
      "text/plain": [
       "9"
      ]
     },
     "execution_count": 38,
     "metadata": {},
     "output_type": "execute_result"
    }
   ],
   "source": [
    "# How many stations are available in this dataset?\n",
    "data_all = pd.read_sql(\"select * from measurement\", conn)\n",
    "unique = data_all.nunique()\n",
    "unique = unique.to_dict()\n",
    "unique['station']"
   ]
  },
  {
   "cell_type": "code",
   "execution_count": 17,
   "metadata": {},
   "outputs": [
    {
     "data": {
      "text/plain": [
       "{'id': {'USC00519281': 2772,\n",
       "  'USC00519397': 2724,\n",
       "  'USC00513117': 2709,\n",
       "  'USC00519523': 2669,\n",
       "  'USC00516128': 2612,\n",
       "  'USC00514830': 2202,\n",
       "  'USC00511918': 1979,\n",
       "  'USC00517948': 1372,\n",
       "  'USC00518838': 511}}"
      ]
     },
     "execution_count": 17,
     "metadata": {},
     "output_type": "execute_result"
    }
   ],
   "source": [
    "# What are the most active stations?\n",
    "# List the stations and the counts in descending order.\n",
    "most_active_station = all_data.groupby(\"station\").count()\n",
    "most_active_station_dict = most_active_station[\"id\"].sort_values(ascending = False)\n",
    "most_active_station[\"id\"].sort_values(ascending = False)\n",
    "most_active_station_dict = pd.DataFrame(most_active_station_dict)\n",
    "most_active_station_dict = most_active_station_dict.to_dict()\n",
    "most_active_station_dict"
   ]
  },
  {
   "cell_type": "code",
   "execution_count": 39,
   "metadata": {},
   "outputs": [
    {
     "data": {
      "text/plain": [
       "([54.0], [85.0], [71.66378066378067])"
      ]
     },
     "execution_count": 39,
     "metadata": {},
     "output_type": "execute_result"
    }
   ],
   "source": [
    "# Using the station id from the previous query, calculate the lowest temperature recorded, \n",
    "# highest temperature recorded, and average temperature most active station?\n",
    "active_stn_1 = pd.read_sql(\"select * from measurement where station = 'USC00519281'\",conn)\n",
    "active_stn_1 = active_stn_1[[\"tobs\"]]\n",
    "active_stn_1_max = active_stn_1.max().tolist()\n",
    "active_stn_1_min = active_stn_1.min().tolist()\n",
    "active_stn_1_avg = active_stn_1.mean().tolist()\n",
    "\n",
    "to_list = (active_stn_1_min,active_stn_1_max,active_stn_1_avg)\n",
    "to_list"
   ]
  },
  {
   "cell_type": "code",
   "execution_count": 40,
   "metadata": {},
   "outputs": [
    {
     "data": {
      "text/plain": [
       "<matplotlib.axes._subplots.AxesSubplot at 0x1f687906a90>"
      ]
     },
     "execution_count": 40,
     "metadata": {},
     "output_type": "execute_result"
    },
    {
     "data": {
      "image/png": "[encoded data removed]",
      "text/plain": [
       "<Figure size 432x288 with 1 Axes>"
      ]
     },
     "metadata": {
      "needs_background": "light"
     },
     "output_type": "display_data"
    }
   ],
   "source": [
    "# Choose the station with the highest number of temperature observations.\n",
    "# Query the last 12 months of temperature observation data for this station and plot the results as a histogram\n",
    "stn_high_temp_obv = data_all[[\"station\",\"tobs\"]]\n",
    "stn_high_temp_obv = stn_high_temp_obv.groupby(\"station\").count()\n",
    "stn_high_temp_obv = stn_high_temp_obv.sort_values(by=\"tobs\",ascending=False)\n",
    "stn_high_temp_obv\n",
    "active_stn_1_tobs = pd.read_sql(f\"select date,tobs from measurement where station = 'USC00519281' and date >= '{year_from_max}'\",conn)\n",
    "active_stn_1_tobs_dict = USC00519281_tobs.to_dict(orient=\"records\")\n",
    "active_stn_1_tobs_dict\n",
    "active_stn_1_tobs.plot(kind='hist')"
   ]
  },
  {
   "cell_type": "code",
   "execution_count": 53,
   "metadata": {},
   "outputs": [
    {
     "name": "stdout",
     "output_type": "stream",
     "text": [
      "[(62.0, 69.57142857142857, 74.0)]\n"
     ]
    }
   ],
   "source": [
    "# Write a function called `calc_temps` that will accept start date and end date in the format '%Y-%m-%d' \n",
    "# and return the minimum, average, and maximum temperatures for that range of dates\n",
    "def calc_temps(start_date, end_date):\n",
    "    return_value = session.query(func.min(Measurement.tobs),func.avg(Measurement.tobs),func.max(Measurement.tobs)).\\\n",
    "    filter(Measurement.date >=start_date).filter(Measurement.date <=end_date).all()\n",
    "    return return_value\n",
    "print(calc_temps('2012-02-28', '2012-03-05'))"
   ]
  },
  {
   "cell_type": "code",
   "execution_count": 71,
   "metadata": {},
   "outputs": [
    {
     "name": "stdout",
     "output_type": "stream",
     "text": [
      "2017-08-23\n",
      "2016-08-23\n",
      "[(58.0, 74.59058295964125, 87.0)]\n"
     ]
    }
   ],
   "source": [
    "# Use your previous function `calc_temps` to calculate the tmin, tavg, and tmax \n",
    "# for your trip using the previous year's data for those same dates.\n",
    "print(max_date)\n",
    "max_date = str(max_date)\n",
    "year_from_max = year_from_max.date()\n",
    "print(year_from_max)\n",
    "min_avg_max = calc_temps(year_from_max,max_date)\n",
    "print(min_avg_max)"
   ]
  },
  {
   "cell_type": "code",
   "execution_count": 75,
   "metadata": {},
   "outputs": [
    {
     "name": "stdout",
     "output_type": "stream",
     "text": [
      "   Trip Avg Temp\n",
      "0      74.590583\n"
     ]
    },
    {
     "data": {
      "image/png": "[encoded data removed]",
      "text/plain": [
       "<Figure size 360x720 with 1 Axes>"
      ]
     },
     "metadata": {
      "needs_background": "light"
     },
     "output_type": "display_data"
    }
   ],
   "source": [
    "min_avg_max = min_avg_max[0]\n",
    "TMIN = min_avg_max[0]\n",
    "TAVG = min_avg_max[1]\n",
    "TMAX = min_avg_max[2]\n",
    "\n",
    "# Use the peak-to-peak (tmax-tmin) value as the y error bar (yerr)\n",
    "tavg_frame = pd.DataFrame({\"Trip Avg Temp\":[TAVG]})\n",
    "print(tavg_frame)\n",
    "tavg_frame.plot(kind=\"bar\",width=.3,yerr=(TMAX-TMIN),figsize=(5,10))\n",
    "\n",
    "# Plot the results from your previous query as a bar chart. \n",
    "plt.title(\"Trip Avg Temp\")\n",
    "plt.legend('')\n",
    "plt.xlabel(\"Avg Temp\")\n",
    "\n",
    "# Use \"Trip Avg Temp\" as your Title\n",
    "# Use the average temperature for the y value\n",
    "plt.ylabel(\"Average Temperature\")\n",
    "plt.tight_layout()\n",
    "plt.savefig(\"BarChart.jpg\")\n",
    "plt.show()"
   ]
  },
  {
   "cell_type": "code",
   "execution_count": 76,
   "metadata": {},
   "outputs": [
    {
     "data": {
      "text/plain": [
       "[{'station': 'USC00519281',\n",
       "  'name': 'WAIHEE 837.5, HI US',\n",
       "  'latitude': 21.45167,\n",
       "  'longitude': -157.84888999999998,\n",
       "  'elevation': 32.9,\n",
       "  'prcp': 11.08},\n",
       " {'station': 'USC00516128',\n",
       "  'name': 'MANOA LYON ARBO 785.2, HI US',\n",
       "  'latitude': 21.3331,\n",
       "  'longitude': -157.8025,\n",
       "  'elevation': 152.4,\n",
       "  'prcp': 10.32},\n",
       " {'station': 'USC00513117',\n",
       "  'name': 'KANEOHE 838.1, HI US',\n",
       "  'latitude': 21.4234,\n",
       "  'longitude': -157.8015,\n",
       "  'elevation': 14.6,\n",
       "  'prcp': 5.79},\n",
       " {'station': 'USC00518838',\n",
       "  'name': 'UPPER WAHIAWA 874.3, HI US',\n",
       "  'latitude': 21.4992,\n",
       "  'longitude': -158.0111,\n",
       "  'elevation': 306.6,\n",
       "  'prcp': 3.8400000000000003},\n",
       " {'station': 'USC00519523',\n",
       "  'name': 'WAIMANALO EXPERIMENTAL FARM, HI US',\n",
       "  'latitude': 21.33556,\n",
       "  'longitude': -157.71139,\n",
       "  'elevation': 19.5,\n",
       "  'prcp': 2.92},\n",
       " {'station': 'USC00519397',\n",
       "  'name': 'WAIKIKI 717.2, HI US',\n",
       "  'latitude': 21.2716,\n",
       "  'longitude': -157.8168,\n",
       "  'elevation': 3.0,\n",
       "  'prcp': 1.1800000000000002},\n",
       " {'station': 'USC00511918',\n",
       "  'name': 'HONOLULU OBSERVATORY 702.2, HI US',\n",
       "  'latitude': 21.3152,\n",
       "  'longitude': -157.9992,\n",
       "  'elevation': 0.9,\n",
       "  'prcp': 0.76},\n",
       " {'station': 'USC00514830',\n",
       "  'name': 'KUALOA RANCH HEADQUARTERS 886.9, HI US',\n",
       "  'latitude': 21.5213,\n",
       "  'longitude': -157.8374,\n",
       "  'elevation': 7.0,\n",
       "  'prcp': 0.03},\n",
       " {'station': 'USC00517948',\n",
       "  'name': 'PEARL CITY, HI US',\n",
       "  'latitude': 21.3934,\n",
       "  'longitude': -157.9751,\n",
       "  'elevation': 11.9,\n",
       "  'prcp': 0.0}]"
      ]
     },
     "execution_count": 76,
     "metadata": {},
     "output_type": "execute_result"
    }
   ],
   "source": [
    "# Calculate the rainfall per weather station for your trip dates using the previous year's matching dates.\n",
    "# Sort this in descending order by precipitation amount and list the station, name, latitude, longitude, and elevation\n",
    "start_date = '2012-02-28'\n",
    "end_date = '2012-03-05'\n",
    "\n",
    "measurement_table = pd.read_sql(f\"select * from measurement where date between '{start_date}' and '{end_date}'\", conn)\n",
    "station_table = pd.read_sql('select * from station', conn)\n",
    "\n",
    "# rainfall_per_station\n",
    "measurement_table = measurement_table[[\"station\",\"prcp\"]]\n",
    "station_table = station_table[[\"station\",\"name\",\"latitude\",\"longitude\",\"elevation\"]]\n",
    "measurement_table_grouped = measurement_table.groupby(\"station\").sum()\n",
    "measurement_table_grouped = measurement_table_grouped.sort_values(by=\"prcp\", ascending=False)\n",
    "\n",
    "# print(measurement_table_grouped.head())\n",
    "# print(station_table.head())\n",
    "measurement_table_grouped\n",
    "\n",
    "station_table\n",
    "measurement_station_merged = measurement_table_grouped.merge(station_table, how='inner',on=\"station\")\n",
    "measurement_station_merged = measurement_station_merged[[\"station\",\"name\",\"latitude\",\"longitude\",\"elevation\",\"prcp\"]]\n",
    "measurement_station_merged_dict = measurement_station_merged.to_dict(orient='records')\n",
    "measurement_station_merged_dict"
   ]
  }
 ],
 "metadata": {
  "kernelspec": {
   "display_name": "Python 3",
   "language": "python",
   "name": "python3"
  },
  "language_info": {
   "codemirror_mode": {
    "name": "ipython",
    "version": 3
   },
   "file_extension": ".py",
   "mimetype": "text/x-python",
   "name": "python",
   "nbconvert_exporter": "python",
   "pygments_lexer": "ipython3",
   "version": "3.7.0"
  }
 },
 "nbformat": 4,
 "nbformat_minor": 2
}
